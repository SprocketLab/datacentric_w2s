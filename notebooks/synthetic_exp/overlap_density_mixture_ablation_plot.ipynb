{
 "cells": [
  {
   "cell_type": "code",
   "execution_count": 1,
   "id": "6a4b3ee5-bd2e-4274-896c-6185cca6f15f",
   "metadata": {},
   "outputs": [
    {
     "ename": "NameError",
     "evalue": "name 'ratio_col' is not defined",
     "output_type": "error",
     "traceback": [
      "\u001b[0;31m---------------------------------------------------------------------------\u001b[0m",
      "\u001b[0;31mNameError\u001b[0m                                 Traceback (most recent call last)",
      "Cell \u001b[0;32mIn[1], line 6\u001b[0m\n\u001b[1;32m      3\u001b[0m plt\u001b[38;5;241m.\u001b[39mrcParams\u001b[38;5;241m.\u001b[39mupdate({\u001b[38;5;124m'\u001b[39m\u001b[38;5;124mfont.size\u001b[39m\u001b[38;5;124m'\u001b[39m: \u001b[38;5;241m22\u001b[39m})\n\u001b[1;32m      5\u001b[0m df \u001b[38;5;241m=\u001b[39m pd\u001b[38;5;241m.\u001b[39mread_csv(\u001b[38;5;124m'\u001b[39m\u001b[38;5;124msynthetic_tmp.csv\u001b[39m\u001b[38;5;124m'\u001b[39m)\n\u001b[0;32m----> 6\u001b[0m df[\u001b[43mratio_col\u001b[49m] \u001b[38;5;241m=\u001b[39m df\u001b[38;5;241m.\u001b[39mapply(\u001b[38;5;28;01mlambda\u001b[39;00m x: x[\u001b[38;5;124m'\u001b[39m\u001b[38;5;124measy\u001b[39m\u001b[38;5;124m'\u001b[39m] \u001b[38;5;241m/\u001b[39m (x[\u001b[38;5;124m'\u001b[39m\u001b[38;5;124measy\u001b[39m\u001b[38;5;124m'\u001b[39m] \u001b[38;5;241m+\u001b[39m x[\u001b[38;5;124m'\u001b[39m\u001b[38;5;124mhard\u001b[39m\u001b[38;5;124m'\u001b[39m] \u001b[38;5;241m+\u001b[39m x[\u001b[38;5;124m'\u001b[39m\u001b[38;5;124moverlap\u001b[39m\u001b[38;5;124m'\u001b[39m]), axis\u001b[38;5;241m=\u001b[39m\u001b[38;5;241m1\u001b[39m)\n\u001b[1;32m      7\u001b[0m df[ratio_col] \u001b[38;5;241m=\u001b[39m df\u001b[38;5;241m.\u001b[39mapply(\u001b[38;5;28;01mlambda\u001b[39;00m x: x[\u001b[38;5;124m'\u001b[39m\u001b[38;5;124mhard\u001b[39m\u001b[38;5;124m'\u001b[39m] \u001b[38;5;241m/\u001b[39m (x[\u001b[38;5;124m'\u001b[39m\u001b[38;5;124measy\u001b[39m\u001b[38;5;124m'\u001b[39m] \u001b[38;5;241m+\u001b[39m x[\u001b[38;5;124m'\u001b[39m\u001b[38;5;124mhard\u001b[39m\u001b[38;5;124m'\u001b[39m] \u001b[38;5;241m+\u001b[39m x[\u001b[38;5;124m'\u001b[39m\u001b[38;5;124moverlap\u001b[39m\u001b[38;5;124m'\u001b[39m]), axis\u001b[38;5;241m=\u001b[39m\u001b[38;5;241m1\u001b[39m)\n\u001b[1;32m      8\u001b[0m df[\u001b[38;5;124m'\u001b[39m\u001b[38;5;124moverlap_ratio\u001b[39m\u001b[38;5;124m'\u001b[39m] \u001b[38;5;241m=\u001b[39m df\u001b[38;5;241m.\u001b[39mapply(\u001b[38;5;28;01mlambda\u001b[39;00m x: x[\u001b[38;5;124m'\u001b[39m\u001b[38;5;124moverlap\u001b[39m\u001b[38;5;124m'\u001b[39m] \u001b[38;5;241m/\u001b[39m (x[\u001b[38;5;124m'\u001b[39m\u001b[38;5;124measy\u001b[39m\u001b[38;5;124m'\u001b[39m] \u001b[38;5;241m+\u001b[39m x[\u001b[38;5;124m'\u001b[39m\u001b[38;5;124mhard\u001b[39m\u001b[38;5;124m'\u001b[39m] \u001b[38;5;241m+\u001b[39m x[\u001b[38;5;124m'\u001b[39m\u001b[38;5;124moverlap\u001b[39m\u001b[38;5;124m'\u001b[39m]), axis\u001b[38;5;241m=\u001b[39m\u001b[38;5;241m1\u001b[39m)\n",
      "\u001b[0;31mNameError\u001b[0m: name 'ratio_col' is not defined"
     ]
    }
   ],
   "source": [
    "import pandas as pd\n",
    "import matplotlib.pyplot as plt\n",
    "plt.rcParams.update({'font.size': 22})\n",
    "\n",
    "df = pd.read_csv('synthetic_tmp.csv')\n",
    "df['easy_ratio'] = df.apply(lambda x: x['easy'] / (x['easy'] + x['hard'] + x['overlap']), axis=1)\n",
    "df['hard_ratio'] = df.apply(lambda x: x['hard'] / (x['easy'] + x['hard'] + x['overlap']), axis=1)\n",
    "df['overlap_ratio'] = df.apply(lambda x: x['overlap'] / (x['easy'] + x['hard'] + x['overlap']), axis=1)\n",
    "df.head()"
   ]
  },
  {
   "cell_type": "code",
   "execution_count": null,
   "id": "893d3959-43a2-443e-a0a0-f3cb13371342",
   "metadata": {},
   "outputs": [],
   "source": [
    "df_mean = df.groupby(['tag', 'easy', 'hard', 'overlap']).mean().reset_index()\n",
    "df_std = df.groupby(['tag', 'easy', 'hard', 'overlap']).std().reset_index()\n",
    "\n",
    "df_mean_easy = df_mean[df_mean['tag']=='easy']\n",
    "df_mean_hard = df_mean[df_mean['tag']=='hard']\n",
    "df_mean_overlap = df_mean[df_mean['tag']=='overlap']\n",
    "\n",
    "df_std_easy = df_std[df_std['tag']=='easy']\n",
    "df_std_hard = df_std[df_std['tag']=='hard']\n",
    "df_std_overlap = df_std[df_std['tag']=='overlap']\n"
   ]
  },
  {
   "cell_type": "code",
   "execution_count": null,
   "id": "d41b5859-fe4e-47c7-abef-ce229487ec4c",
   "metadata": {},
   "outputs": [],
   "source": [
    "fig, axes = plt.subplots(1, 3, figsize=(18,6), sharey=True, layout='constrained')\n",
    "\n",
    "\n",
    "# Easy\n",
    "df_mean_target = df_mean_easy\n",
    "df_std_target = df_std_easy\n",
    "ratio_col = 'easy_ratio'\n",
    "axes[0].plot(df_mean_target[ratio_col], df_mean_target['weak'], linewidth=2, label='Weak Model')\n",
    "axes[0].plot(df_mean_target[ratio_col], df_mean_target['strong_ceil'], linewidth=2, label='Strong Model')\n",
    "axes[0].plot(df_mean_target[ratio_col], df_mean_target['w2s'], linewidth=2, label='W2S')\n",
    "\n",
    "axes[0].fill_between(df_mean_target[ratio_col], df_mean_target['weak']-df_std_target['weak'],\n",
    "                     df_mean_target['weak']+df_std_target['weak'], color='blue', alpha=0.1)\n",
    "axes[0].fill_between(df_mean_target[ratio_col], df_mean_target['strong_ceil']-df_std_target['strong_ceil'],\n",
    "                     df_mean_target['strong_ceil']+df_std_target['strong_ceil'], color='orange', alpha=0.1)\n",
    "axes[0].fill_between(df_mean_target[ratio_col], df_mean_target['w2s']-df_std_target['w2s'],\n",
    "                     df_mean_target['w2s']+df_std_target['w2s'], color='green', alpha=0.1)\n",
    "axes[0].grid()\n",
    "axes[0].legend()\n",
    "axes[0].set_xlabel('Nonoverlap (Easy) Ratio')\n",
    "axes[0].set_ylabel('Accuracy')\n",
    "\n",
    "\n",
    "# Hard\n",
    "df_mean_target = df_mean_hard\n",
    "df_std_target = df_std_hard\n",
    "ratio_col = 'hard_ratio'\n",
    "axes[1].plot(df_mean_target[ratio_col], df_mean_target['weak'], linewidth=2, label='Weak Model')\n",
    "axes[1].plot(df_mean_target[ratio_col], df_mean_target['strong_ceil'], linewidth=2, label='Strong Model')\n",
    "axes[1].plot(df_mean_target[ratio_col], df_mean_target['w2s'], linewidth=2, label='W2S')\n",
    "\n",
    "axes[1].fill_between(df_mean_target[ratio_col], df_mean_target['weak']-df_std_target['weak'],\n",
    "                     df_mean_target['weak']+df_std_target['weak'], color='blue', alpha=0.1)\n",
    "axes[1].fill_between(df_mean_target[ratio_col], df_mean_target['strong_ceil']-df_std_target['strong_ceil'],\n",
    "                     df_mean_target['strong_ceil']+df_std_target['strong_ceil'], color='orange', alpha=0.1)\n",
    "axes[1].fill_between(df_mean_target[ratio_col], df_mean_target['w2s']-df_std_target['w2s'],\n",
    "                     df_mean_target['w2s']+df_std_target['w2s'], color='green', alpha=0.1)\n",
    "axes[1].grid()\n",
    "axes[1].legend()\n",
    "axes[1].set_xlabel('Nonoverlap (Hard) Ratio')\n",
    "\n",
    "df_mean_target = df_mean_overlap\n",
    "df_std_target = df_std_overlap\n",
    "ratio_col = 'overlap_ratio'\n",
    "axes[2].plot(df_mean_target[ratio_col], df_mean_target['weak'], linewidth=2, label='Weak Model')\n",
    "axes[2].plot(df_mean_target[ratio_col], df_mean_target['strong_ceil'], linewidth=2, label='Strong Model')\n",
    "axes[2].plot(df_mean_target[ratio_col], df_mean_target['w2s'], linewidth=2, label='W2S')\n",
    "\n",
    "axes[2].fill_between(df_mean_target[ratio_col], df_mean_target['weak']-df_std_target['weak'],\n",
    "                     df_mean_target['weak']+df_std_target['weak'], color='blue', alpha=0.1)\n",
    "axes[2].fill_between(df_mean_target[ratio_col], df_mean_target['strong_ceil']-df_std_target['strong_ceil'],\n",
    "                     df_mean_target['strong_ceil']+df_std_target['strong_ceil'], color='orange', alpha=0.1)\n",
    "axes[2].fill_between(df_mean_target[ratio_col], df_mean_target['w2s']-df_std_target['w2s'],\n",
    "                     df_mean_target['w2s']+df_std_target['w2s'], color='green', alpha=0.1)\n",
    "axes[2].grid()\n",
    "axes[2].legend()\n",
    "axes[2].set_xlabel('Overlap Ratio')\n",
    "\n"
   ]
  },
  {
   "cell_type": "code",
   "execution_count": null,
   "id": "2f476c6c-3dc2-48d1-8fea-9891d43fca8b",
   "metadata": {},
   "outputs": [],
   "source": []
  },
  {
   "cell_type": "code",
   "execution_count": null,
   "id": "ddc198cd-f829-4014-aa77-bf0f32374388",
   "metadata": {},
   "outputs": [],
   "source": []
  }
 ],
 "metadata": {
  "kernelspec": {
   "display_name": "Python 3.9.19 ('w2s': conda)",
   "language": "python",
   "name": "python3"
  },
  "language_info": {
   "codemirror_mode": {
    "name": "ipython",
    "version": 3
   },
   "file_extension": ".py",
   "mimetype": "text/x-python",
   "name": "python",
   "nbconvert_exporter": "python",
   "pygments_lexer": "ipython3",
   "version": "3.9.19"
  },
  "vscode": {
   "interpreter": {
    "hash": "27a4bfbed6c94d3d5b2faa25e6df3864d13276ebdc0f331b1c8dd4b257421793"
   }
  }
 },
 "nbformat": 4,
 "nbformat_minor": 5
}
