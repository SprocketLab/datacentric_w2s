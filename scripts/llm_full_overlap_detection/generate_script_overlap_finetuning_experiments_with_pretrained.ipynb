{
 "cells": [
  {
   "cell_type": "code",
   "execution_count": 1,
   "metadata": {},
   "outputs": [
    {
     "name": "stderr",
     "output_type": "stream",
     "text": [
      "/data/changho/miniconda3/envs/datacentric_w2s/lib/python3.10/site-packages/tqdm/auto.py:21: TqdmWarning: IProgress not found. Please update jupyter and ipywidgets. See https://ipywidgets.readthedocs.io/en/stable/user_install.html\n",
      "  from .autonotebook import tqdm as notebook_tqdm\n"
     ]
    }
   ],
   "source": [
    "import sys\n",
    "sys.path.append('/u/c/h/chshin/changho/datacentric_w2s/')\n",
    "from w2s.ds_registry import VALID_DATASETS\n",
    "valid_datasets = ['anli-r2',\n",
    " 'cola',\n",
    " 'dream',\n",
    " 'mc_taco',\n",
    " 'hellaswag',\n",
    " 'multirc',\n",
    " 'paws',\n",
    " 'piqa',\n",
    " 'quail',\n",
    " 'quartz',\n",
    " 'social_i_qa',\n",
    " 'sst2',\n",
    " 'wic',\n",
    " 'twitter-sentiment',\n",
    " 'sciq',\n",
    " 'anthropic_hh',\n",
    " 'cosmos_qa',\n",
    " 'boolq',\n",
    " 'amazon_polarity']"
   ]
  },
  {
   "cell_type": "code",
   "execution_count": 2,
   "metadata": {},
   "outputs": [
    {
     "name": "stdout",
     "output_type": "stream",
     "text": [
      "Shell script 'weekend_with_finetuning_full_experiments_with_pretrained_embeddings.sh' has been created.\n"
     ]
    }
   ],
   "source": [
    "def write_shell_script(filename, script_lines):\n",
    "        # Open the file in write mode\n",
    "    with open(filename, \"w\") as file:\n",
    "        # Write each line into the shell script file\n",
    "        for line in script_lines:\n",
    "            file.write(line + \"\\n\")\n",
    "    print(f\"Shell script '{filename}' has been created.\")\n",
    "    \n",
    "filename = 'weekend_with_finetuning_full_experiments_with_pretrained_embeddings.sh'\n",
    "\n",
    "script_lines = []\n",
    "\n",
    "exp_count = 0\n",
    "gpu_idx = 0\n",
    "gpu_list = [4, 5, 6]\n",
    "exp_per_gpu = 1\n",
    "for seed in range(1):\n",
    "    for ds_name in valid_datasets:\n",
    "    # for ds_name in valid_datasets:\n",
    "        if exp_count % exp_per_gpu ==0:\n",
    "            script_lines.append(f'export CUDA_VISIBLE_DEVICES={gpu_list[gpu_idx]}')\n",
    "            gpu_idx = (gpu_idx + 1) % len(gpu_list)\n",
    "        \n",
    "        if (exp_count + 1) % (exp_per_gpu * len(gpu_list)) == 0:\n",
    "            line = f\"python overlap_finetuning_full_experiments_with_pretrained_embeddings.py --seed {seed} --dataset {ds_name}\"\n",
    "        else:\n",
    "            line = f\"python overlap_finetuning_full_experiments_with_pretrained_embeddings.py --seed {seed} --dataset {ds_name} &\"\n",
    "        \n",
    "        script_lines.append(line)\n",
    "        exp_count += 1\n",
    "write_shell_script(filename, script_lines)"
   ]
  },
  {
   "cell_type": "code",
   "execution_count": null,
   "metadata": {},
   "outputs": [],
   "source": []
  }
 ],
 "metadata": {
  "kernelspec": {
   "display_name": "datacentric_w2s",
   "language": "python",
   "name": "python3"
  },
  "language_info": {
   "codemirror_mode": {
    "name": "ipython",
    "version": 3
   },
   "file_extension": ".py",
   "mimetype": "text/x-python",
   "name": "python",
   "nbconvert_exporter": "python",
   "pygments_lexer": "ipython3",
   "version": "3.10.14"
  }
 },
 "nbformat": 4,
 "nbformat_minor": 2
}
